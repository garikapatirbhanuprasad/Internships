{
  "nbformat": 4,
  "nbformat_minor": 0,
  "metadata": {
    "colab": {
      "provenance": [],
      "authorship_tag": "ABX9TyPMOdMetUNmyo11C9XaqtxW",
      "include_colab_link": true
    },
    "kernelspec": {
      "name": "python3",
      "display_name": "Python 3"
    },
    "language_info": {
      "name": "python"
    }
  },
  "cells": [
    {
      "cell_type": "markdown",
      "metadata": {
        "id": "view-in-github",
        "colab_type": "text"
      },
      "source": [
        "<a href=\"https://colab.research.google.com/github/garikapatirbhanuprasad/Internships/blob/main/chatbot.ipynb\" target=\"_parent\"><img src=\"https://colab.research.google.com/assets/colab-badge.svg\" alt=\"Open In Colab\"/></a>"
      ]
    },
    {
      "cell_type": "code",
      "execution_count": null,
      "metadata": {
        "colab": {
          "base_uri": "https://localhost:8080/"
        },
        "id": "ChmKjKnrR3po",
        "outputId": "7c5c5a6c-4bdc-48ca-fb2c-44b505781b9d"
      },
      "outputs": [
        {
          "output_type": "stream",
          "name": "stdout",
          "text": [
            "Welcome! How can I help you?\n",
            "You: i need nine multiples nine\n",
            "Bot: I'm sorry, I didn't understand that. Can you please ask in a different way?\n",
            "You: what is the capital of andhra pradesh\n",
            "Bot: I'm sorry, I didn't understand that. Can you please ask in a different way?\n"
          ]
        }
      ],
      "source": [
        "def simple_chatbot(user_input):\n",
        "    user_input = user_input.lower()  # Convert user input to lowercase for easier matching\n",
        "\n",
        "    if \"hello\" in user_input or \"hi\" in user_input:\n",
        "        return \"Hello! How can I assist you today?\"\n",
        "\n",
        "    elif \"how are you\" in user_input:\n",
        "        return \"I'm just a bot, but thanks for asking!\"\n",
        "\n",
        "    elif \"bye\" in user_input or \"goodbye\" in user_input:\n",
        "        return \"Goodbye! Have a great day!\"\n",
        "\n",
        "    else:\n",
        "        return \"I'm sorry, I didn't understand that. Can you please ask in a different way?\"\n",
        "\n",
        "# Test the chatbot\n",
        "print(\"Welcome! How can I help you?\")\n",
        "while True:\n",
        "    user_message = input(\"You: \")\n",
        "    if user_message.lower() == 'exit':\n",
        "        print(\"Closing the chat. Goodbye!\")\n",
        "        break\n",
        "    bot_response = simple_chatbot(user_message)\n",
        "    print(\"Bot:\", bot_response)\n",
        "\n"
      ]
    }
  ]
}