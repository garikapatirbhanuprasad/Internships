{
  "nbformat": 4,
  "nbformat_minor": 0,
  "metadata": {
    "colab": {
      "provenance": [],
      "authorship_tag": "ABX9TyOEuFip5g7H8L39LgszqMvb",
      "include_colab_link": true
    },
    "kernelspec": {
      "name": "python3",
      "display_name": "Python 3"
    },
    "language_info": {
      "name": "python"
    }
  },
  "cells": [
    {
      "cell_type": "markdown",
      "metadata": {
        "id": "view-in-github",
        "colab_type": "text"
      },
      "source": [
        "<a href=\"https://colab.research.google.com/github/garikapatirbhanuprasad/Internships/blob/main/recommendation_system.ipynb\" target=\"_parent\"><img src=\"https://colab.research.google.com/assets/colab-badge.svg\" alt=\"Open In Colab\"/></a>"
      ]
    },
    {
      "cell_type": "code",
      "source": [
        "import numpy as np\n",
        "import matplotlib.pyplot as plt\n",
        "\n",
        "from keras.preprocessing import image\n",
        "from keras.applications.resnet50 import ResNet50, preprocess_input, decode_predictions\n",
        "from keras.models import Model, load_model\n",
        "from keras.preprocessing.sequence import pad_sequences\n",
        "from keras.utils import to_categorical\n",
        "from keras.layers import Input, Dense, Embedding, LSTM, Dropout\n",
        "\n",
        "from nltk.translate.bleu_score import corpus_bleu\n",
        "\n",
        "# Load pre-trained ResNet model\n",
        "base_model = ResNet50(weights='imagenet')\n",
        "# Remove the classification layer\n",
        "model = Model(inputs=base_model.input, outputs=base_model.get_layer('avg_pool').output)\n",
        "\n",
        "# Load the pre-trained image captioning model (if available)\n",
        "# If not available, train the model using the MS COCO dataset or a custom dataset\n",
        "\n",
        "# Function to preprocess the image\n",
        "def preprocess_image(img_path):\n",
        "    img = image.load_img(img_path, target_size=(224, 224))\n",
        "    img_array = image.img_to_array(img)\n",
        "    img_array = np.expand_dims(img_array, axis=0)\n",
        "    img_array = preprocess_input(img_array)\n",
        "    return img_array\n",
        "\n",
        "# Function to generate image features using ResNet\n",
        "def generate_image_features(img_path):\n",
        "    img_array = preprocess_image(img_path)\n",
        "    features = model.predict(img_array)\n",
        "    features = features.reshape((1, features.shape[1]))\n",
        "    return features\n",
        "\n",
        "# Load word-to-index and index-to-word mappings for the captions\n",
        "word_to_index = ...  # Load from the pre-processing step or train your own\n",
        "index_to_word = ...  # Load from the pre-processing step or train your own\n",
        "\n",
        "# Function to generate captions using the trained captioning model\n",
        "def generate_caption(model, photo):\n",
        "    in_text = 'startseq'\n",
        "    for i in range(max_length):\n",
        "        sequence = [word_to_index[w] for w in in_text.split() if w in word_to_index]\n",
        "        sequence = pad_sequences([sequence], maxlen=max_length)\n",
        "        yhat = model.predict([photo, sequence], verbose=0)\n",
        "        yhat = np.argmax(yhat)\n",
        "        word = index_to_word[yhat]\n",
        "        in_text += ' ' + word\n",
        "        if word == 'endseq':\n",
        "            break\n",
        "    return in_text\n",
        "\n",
        "# Example usage\n",
        "img_path = 'path/to/your/image.jpg'\n",
        "img_features = generate_image_features(img_path)\n",
        "\n",
        "# Load the pre-trained captioning model (or train your own)\n",
        "# model = load_model('path/to/your/captioning_model.h5')\n",
        "\n",
        "# Set the maximum length of captions\n",
        "max_length = 34  # Adjust based on your dataset\n",
        "\n",
        "caption = generate_caption(model, img_features)\n",
        "caption = ' '.join(caption.split()[1:-1])  # Remove startseq and endseq\n",
        "print(\"Generated Caption:\", caption)\n",
        "\n",
        "# Display the image\n",
        "img = image.load_img(img_path)\n",
        "plt.imshow(img)\n",
        "plt.show()\n"
      ],
      "metadata": {
        "id": "DN9SJpfa-8Ho"
      },
      "execution_count": null,
      "outputs": []
    }
  ]
}